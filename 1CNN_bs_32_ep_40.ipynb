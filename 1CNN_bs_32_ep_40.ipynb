{
  "cells": [
    {
      "cell_type": "markdown",
      "metadata": {
        "id": "view-in-github",
        "colab_type": "text"
      },
      "source": [
        "<a href=\"https://colab.research.google.com/github/novtryrezki/Belajar/blob/main/1CNN_bs_32_ep_40.ipynb\" target=\"_parent\"><img src=\"https://colab.research.google.com/assets/colab-badge.svg\" alt=\"Open In Colab\"/></a>"
      ]
    },
    {
      "cell_type": "code",
      "execution_count": 1,
      "metadata": {
        "id": "Gj0QELQHjUVZ"
      },
      "outputs": [],
      "source": [
        "import os\n",
        "import zipfile\n",
        "import random\n",
        "import shutil\n",
        "import numpy as np\n",
        "import tensorflow as tf\n",
        "import pandas as pd\n",
        "from google.colab import drive\n",
        "from sklearn.model_selection import train_test_split"
      ]
    },
    {
      "cell_type": "code",
      "execution_count": 2,
      "metadata": {
        "colab": {
          "base_uri": "https://localhost:8080/"
        },
        "id": "HXtZwYwdjXH4",
        "outputId": "910c2e10-bd40-4a51-8f20-18df76a000ca"
      },
      "outputs": [
        {
          "output_type": "stream",
          "name": "stdout",
          "text": [
            "Mounted at /content/drive\n"
          ]
        }
      ],
      "source": [
        "# Melakukan mount pada Google Drive\n",
        "drive.mount('/content/drive')\n",
        "\n",
        "# Menentukan path file ZIP di Google Drive\n",
        "zip_path = '/content/drive/MyDrive/images.zip'\n",
        "\n",
        "# Membuat objek zip_ref\n",
        "zip_ref = zipfile.ZipFile(zip_path, 'r')\n",
        "\n",
        "# Mengekstrak file ZIP\n",
        "extract_path ='/content/images'\n",
        "zip_ref.extractall(extract_path)\n",
        "\n",
        "# Tutup objek zip_ref setelah selesai\n",
        "zip_ref.close()"
      ]
    },
    {
      "cell_type": "code",
      "execution_count": 3,
      "metadata": {
        "colab": {
          "base_uri": "https://localhost:8080/"
        },
        "id": "P9SpMwZxCMpv",
        "outputId": "418ec508-f3de-469d-f339-62a6dbff848d"
      },
      "outputs": [
        {
          "output_type": "stream",
          "name": "stdout",
          "text": [
            "Daftar Angka pada Dataset Train yaitu :  ['angka 0', 'angka 1', 'angka 2', 'angka 3', 'angka 4', 'angka 5', 'angka 6', 'angka 7', 'angka 8', 'angka 9']\n",
            "Daftar Angka pada Dataset Test yaitu :  ['angka 0', 'angka 1', 'angka 2', 'angka 3', 'angka 4', 'angka 5', 'angka 6', 'angka 7', 'angka 8', 'angka 9']\n"
          ]
        }
      ],
      "source": [
        "# Mendefinisikan path direktori dataset\n",
        "dataset_dir = os.path.join(extract_path, 'images')\n",
        "train_dir = os.path.join(dataset_dir, 'train')\n",
        "test_dir = os.path.join(dataset_dir, 'test')\n",
        "list_train = sorted(os.listdir(train_dir))\n",
        "list_test = sorted(os.listdir(test_dir))\n",
        "\n",
        "print(\"Daftar Angka pada Dataset Train yaitu : \", list_train)\n",
        "print(\"Daftar Angka pada Dataset Test yaitu : \", list_test)"
      ]
    },
    {
      "cell_type": "code",
      "execution_count": 4,
      "metadata": {
        "colab": {
          "base_uri": "https://localhost:8080/"
        },
        "id": "JycQg0kGCHHe",
        "outputId": "f6548f45-a0b1-4035-be6a-41f5b2c38a57"
      },
      "outputs": [
        {
          "output_type": "stream",
          "name": "stdout",
          "text": [
            "Jumlah gambar di Dataset Train: 1763\n",
            "Jumlah gambar di Dataset Test: 445\n"
          ]
        }
      ],
      "source": [
        "def count_images(directory):\n",
        "    return sum(1 for file in os.listdir(directory) if file.endswith(('.jpg', '.jpeg', '.png', '.gif')))\n",
        "\n",
        "# Menghitung jumlah gambar di data train\n",
        "train_image_count = sum(count_images(os.path.join(train_dir, angka)) for angka in list_train)\n",
        "\n",
        "# Menghitung jumlah gambar di data test\n",
        "test_image_count = sum(count_images(os.path.join(test_dir, angka)) for angka in list_test)\n",
        "\n",
        "print(f\"Jumlah gambar di Dataset Train: {train_image_count}\")\n",
        "print(f\"Jumlah gambar di Dataset Test: {test_image_count}\")"
      ]
    },
    {
      "cell_type": "markdown",
      "metadata": {
        "id": "Cs-YBymEElj8"
      },
      "source": [
        "# Preprocessing"
      ]
    },
    {
      "cell_type": "code",
      "execution_count": 5,
      "metadata": {
        "id": "j-iPjxpXF_bf"
      },
      "outputs": [],
      "source": [
        "import cv2\n",
        "\n",
        "def resize_images(directory, target_resolution):\n",
        "    for angka in os.listdir(directory):\n",
        "        angka_dir = os.path.join(directory, angka)\n",
        "        for file_name in os.listdir(angka_dir):\n",
        "            file_path = os.path.join(angka_dir, file_name)\n",
        "            img = cv2.imread(file_path)\n",
        "            resized_img = cv2.resize(img, (target_resolution, target_resolution))\n",
        "            cv2.imwrite(file_path, resized_img)\n",
        "\n",
        "target_resolution = 256\n",
        "resize_images(train_dir, target_resolution)\n",
        "resize_images(test_dir, target_resolution)"
      ]
    },
    {
      "cell_type": "code",
      "execution_count": 6,
      "metadata": {
        "colab": {
          "base_uri": "https://localhost:8080/"
        },
        "id": "MrR6ROkiF9Uj",
        "outputId": "586ab3da-d39c-4515-f0bb-d90b122a918a"
      },
      "outputs": [
        {
          "output_type": "stream",
          "name": "stdout",
          "text": [
            "Found 1763 images belonging to 10 classes.\n",
            "Found 445 images belonging to 10 classes.\n"
          ]
        }
      ],
      "source": [
        "from tensorflow.keras.preprocessing.image import ImageDataGenerator\n",
        "\n",
        "# Membuat generator data dengan augmentasi\n",
        "image_size = (256, 256)\n",
        "batch_size = 32\n",
        "\n",
        "train_datagen = ImageDataGenerator(\n",
        "    rescale = 1./255,\n",
        "    rotation_range = 90,\n",
        "    width_shift_range = 0.2,\n",
        "    height_shift_range = 0.2,\n",
        "    zoom_range = 0.2,\n",
        ")\n",
        "\n",
        "test_datagen = ImageDataGenerator(\n",
        "    rescale=1./255,\n",
        ")\n",
        "\n",
        "train_generator = train_datagen.flow_from_directory(\n",
        "    train_dir,\n",
        "    target_size=image_size,\n",
        "    batch_size=batch_size,\n",
        "    class_mode='categorical',\n",
        "    color_mode='grayscale'\n",
        ")\n",
        "\n",
        "test_generator = test_datagen.flow_from_directory(\n",
        "    test_dir,\n",
        "    target_size=image_size,\n",
        "    batch_size=batch_size,\n",
        "    class_mode='categorical',\n",
        "    color_mode='grayscale'\n",
        ")"
      ]
    },
    {
      "cell_type": "markdown",
      "metadata": {
        "id": "gPqE7ywQJ01c"
      },
      "source": [
        "# Membuat Model CNN"
      ]
    },
    {
      "cell_type": "code",
      "execution_count": 7,
      "metadata": {
        "id": "SvNzs3QB71R6"
      },
      "outputs": [],
      "source": [
        "from tensorflow.keras.models import Sequential\n",
        "from tensorflow.keras.layers import Conv2D, AveragePooling2D, Flatten, Dense\n",
        "import math\n",
        "\n",
        "img_size = 256*256*1\n",
        "\n",
        "# Perhitungan jumlah neuron pada lapisan tersembunyi\n",
        "hidden_neurons = int(math.sqrt(img_size * 10))\n",
        "\n",
        "model1c = Sequential()\n",
        "model1c.add(Conv2D(32, (3, 3), input_shape=(256, 256, 1)))\n",
        "model1c.add(AveragePooling2D((2, 2)))\n",
        "model1c.add(Conv2D(64, (3, 3), activation='relu'))\n",
        "model1c.add(AveragePooling2D((2, 2)))\n",
        "model1c.add(Flatten())\n",
        "model1c.add(Dense(hidden_neurons, activation='relu'))\n",
        "model1c.add(Dense(10, activation='softmax'))\n",
        "\n",
        "model1c.compile(optimizer='SGD', loss='categorical_crossentropy', metrics=['accuracy'])"
      ]
    },
    {
      "cell_type": "code",
      "execution_count": 8,
      "metadata": {
        "colab": {
          "base_uri": "https://localhost:8080/"
        },
        "id": "RfHd4NJznjOh",
        "outputId": "36a2875f-2cd1-4bef-f6ba-6035a653ad32"
      },
      "outputs": [
        {
          "output_type": "stream",
          "name": "stdout",
          "text": [
            "Model: \"sequential\"\n",
            "_________________________________________________________________\n",
            " Layer (type)                Output Shape              Param #   \n",
            "=================================================================\n",
            " conv2d (Conv2D)             (None, 254, 254, 32)      320       \n",
            "                                                                 \n",
            " average_pooling2d (Average  (None, 127, 127, 32)      0         \n",
            " Pooling2D)                                                      \n",
            "                                                                 \n",
            " conv2d_1 (Conv2D)           (None, 125, 125, 64)      18496     \n",
            "                                                                 \n",
            " average_pooling2d_1 (Avera  (None, 62, 62, 64)        0         \n",
            " gePooling2D)                                                    \n",
            "                                                                 \n",
            " flatten (Flatten)           (None, 246016)            0         \n",
            "                                                                 \n",
            " dense (Dense)               (None, 809)               199027753 \n",
            "                                                                 \n",
            " dense_1 (Dense)             (None, 10)                8100      \n",
            "                                                                 \n",
            "=================================================================\n",
            "Total params: 199054669 (759.33 MB)\n",
            "Trainable params: 199054669 (759.33 MB)\n",
            "Non-trainable params: 0 (0.00 Byte)\n",
            "_________________________________________________________________\n"
          ]
        }
      ],
      "source": [
        "model1c.summary()"
      ]
    },
    {
      "cell_type": "code",
      "execution_count": 9,
      "metadata": {
        "colab": {
          "base_uri": "https://localhost:8080/"
        },
        "id": "I_Klj8ReYASB",
        "outputId": "a3a3b3b0-c5ce-4817-c545-45290096da29"
      },
      "outputs": [
        {
          "output_type": "stream",
          "name": "stdout",
          "text": [
            "Epoch 1/40\n",
            "56/56 [==============================] - 265s 5s/step - loss: 2.0555 - accuracy: 0.2830\n",
            "Epoch 2/40\n",
            "56/56 [==============================] - 259s 5s/step - loss: 2.0022 - accuracy: 0.3244\n",
            "Epoch 3/40\n",
            "56/56 [==============================] - 256s 5s/step - loss: 1.9795 - accuracy: 0.3358\n",
            "Epoch 4/40\n",
            "56/56 [==============================] - 260s 5s/step - loss: 1.9485 - accuracy: 0.3432\n",
            "Epoch 5/40\n",
            "56/56 [==============================] - 260s 5s/step - loss: 1.9483 - accuracy: 0.3517\n",
            "Epoch 6/40\n",
            "56/56 [==============================] - 257s 5s/step - loss: 1.9343 - accuracy: 0.3466\n",
            "Epoch 7/40\n",
            "56/56 [==============================] - 259s 5s/step - loss: 1.9202 - accuracy: 0.3539\n",
            "Epoch 8/40\n",
            "56/56 [==============================] - 257s 5s/step - loss: 1.9017 - accuracy: 0.3539\n",
            "Epoch 9/40\n",
            "56/56 [==============================] - 260s 5s/step - loss: 1.8734 - accuracy: 0.3710\n",
            "Epoch 10/40\n",
            "56/56 [==============================] - 255s 5s/step - loss: 1.8597 - accuracy: 0.3721\n",
            "Epoch 11/40\n",
            "56/56 [==============================] - 258s 5s/step - loss: 1.8567 - accuracy: 0.3732\n",
            "Epoch 12/40\n",
            "56/56 [==============================] - 261s 5s/step - loss: 1.8293 - accuracy: 0.3874\n",
            "Epoch 13/40\n",
            "56/56 [==============================] - 256s 5s/step - loss: 1.8188 - accuracy: 0.3908\n",
            "Epoch 14/40\n",
            "56/56 [==============================] - 257s 5s/step - loss: 1.8210 - accuracy: 0.3891\n",
            "Epoch 15/40\n",
            "56/56 [==============================] - 262s 5s/step - loss: 1.7917 - accuracy: 0.3851\n",
            "Epoch 16/40\n",
            "56/56 [==============================] - 257s 5s/step - loss: 1.7724 - accuracy: 0.3988\n",
            "Epoch 17/40\n",
            "56/56 [==============================] - 260s 5s/step - loss: 1.7497 - accuracy: 0.4135\n",
            "Epoch 18/40\n",
            "56/56 [==============================] - 259s 5s/step - loss: 1.7059 - accuracy: 0.4402\n",
            "Epoch 19/40\n",
            "56/56 [==============================] - 257s 5s/step - loss: 1.6858 - accuracy: 0.4334\n",
            "Epoch 20/40\n",
            "56/56 [==============================] - 257s 5s/step - loss: 1.6554 - accuracy: 0.4543\n",
            "Epoch 21/40\n",
            "56/56 [==============================] - 260s 5s/step - loss: 1.6137 - accuracy: 0.4736\n",
            "Epoch 22/40\n",
            "56/56 [==============================] - 257s 5s/step - loss: 1.5875 - accuracy: 0.4799\n",
            "Epoch 23/40\n",
            "56/56 [==============================] - 259s 5s/step - loss: 1.5252 - accuracy: 0.5037\n",
            "Epoch 24/40\n",
            "56/56 [==============================] - 259s 5s/step - loss: 1.4944 - accuracy: 0.5139\n",
            "Epoch 25/40\n",
            "56/56 [==============================] - 261s 5s/step - loss: 1.4556 - accuracy: 0.5269\n",
            "Epoch 26/40\n",
            "56/56 [==============================] - 262s 5s/step - loss: 1.4623 - accuracy: 0.5281\n",
            "Epoch 27/40\n",
            "56/56 [==============================] - 255s 5s/step - loss: 1.4547 - accuracy: 0.5360\n",
            "Epoch 28/40\n",
            "56/56 [==============================] - 258s 5s/step - loss: 1.3717 - accuracy: 0.5627\n",
            "Epoch 29/40\n",
            "56/56 [==============================] - 259s 5s/step - loss: 1.3872 - accuracy: 0.5553\n",
            "Epoch 30/40\n",
            "56/56 [==============================] - 262s 5s/step - loss: 1.3531 - accuracy: 0.5678\n",
            "Epoch 31/40\n",
            "56/56 [==============================] - 262s 5s/step - loss: 1.3319 - accuracy: 0.5825\n",
            "Epoch 32/40\n",
            "56/56 [==============================] - 256s 5s/step - loss: 1.2500 - accuracy: 0.5910\n",
            "Epoch 33/40\n",
            "56/56 [==============================] - 259s 5s/step - loss: 1.2862 - accuracy: 0.5922\n",
            "Epoch 34/40\n",
            "56/56 [==============================] - 261s 5s/step - loss: 1.2534 - accuracy: 0.6001\n",
            "Epoch 35/40\n",
            "56/56 [==============================] - 259s 5s/step - loss: 1.2754 - accuracy: 0.5910\n",
            "Epoch 36/40\n",
            "56/56 [==============================] - 256s 5s/step - loss: 1.2194 - accuracy: 0.6081\n",
            "Epoch 37/40\n",
            "56/56 [==============================] - 263s 5s/step - loss: 1.2264 - accuracy: 0.5978\n",
            "Epoch 38/40\n",
            "56/56 [==============================] - 259s 5s/step - loss: 1.2167 - accuracy: 0.6098\n",
            "Epoch 39/40\n",
            "56/56 [==============================] - 257s 5s/step - loss: 1.1901 - accuracy: 0.6228\n",
            "Epoch 40/40\n",
            "56/56 [==============================] - 260s 5s/step - loss: 1.2236 - accuracy: 0.6052\n"
          ]
        }
      ],
      "source": [
        "history = model1c.fit(train_generator, epochs=40, verbose = 1)"
      ]
    },
    {
      "cell_type": "markdown",
      "metadata": {
        "id": "6VOcIXg0IvCs"
      },
      "source": [
        "#Matriks Konfusi"
      ]
    },
    {
      "cell_type": "code",
      "execution_count": 27,
      "metadata": {
        "colab": {
          "base_uri": "https://localhost:8080/",
          "height": 617
        },
        "id": "Lz5lA0bDIxJg",
        "outputId": "d74f3058-e6e2-4cd1-bbe1-998f9e9daa3e"
      },
      "outputs": [
        {
          "output_type": "stream",
          "name": "stdout",
          "text": [
            "14/14 [==============================] - 16s 1s/step\n"
          ]
        },
        {
          "output_type": "display_data",
          "data": {
            "text/plain": [
              "<Figure size 800x600 with 2 Axes>"
            ],
            "image/png": "[encoded data removed]"
          },
          "metadata": {}
        }
      ],
      "source": [
        "from sklearn.metrics import confusion_matrix, classification_report\n",
        "import seaborn as sns\n",
        "import matplotlib.pyplot as plt\n",
        "\n",
        "# Fungsi untuk mendapatkan prediksi model dan label sebenarnya\n",
        "def get_predictions_and_labels(model, data_generator):\n",
        "    predictions = model.predict(data_generator)\n",
        "    true_classes = data_generator.classes\n",
        "    return predictions, true_classes\n",
        "\n",
        "# Mendapatkan prediksi dan label sebenarnya untuk data uji\n",
        "y_pred_prob, y_true = get_predictions_and_labels(model1c, test_generator)\n",
        "y_pred = np.argmax(y_pred_prob, axis=1)\n",
        "\n",
        "# Membuat matriks konfusi\n",
        "cf_matrix = confusion_matrix(y_true, y_pred)\n",
        "\n",
        "# Membuat visualisasi matriks konfusi\n",
        "fig, ax = plt.subplots(figsize=(8, 6))\n",
        "sns.heatmap(cf_matrix, annot=True, fmt='g', cmap='Blues', ax=ax)\n",
        "\n",
        "# Menetapkan label dan judul\n",
        "ax.set_title('Confusion Matrix with labels')\n",
        "ax.set_xlabel('Predicted Values')\n",
        "ax.set_ylabel('Actual Values')\n",
        "\n",
        "class_labels = list(test_generator.class_indices.keys())\n",
        "\n",
        "# Menetapkan label pada sumbu x dan y sesuai dengan jenis kelas\n",
        "ax.xaxis.set_ticklabels(class_labels, rotation=45)\n",
        "ax.yaxis.set_ticklabels(class_labels, rotation=45)\n",
        "\n",
        "# Menampilkan visualisasi Matriks Konfusi\n",
        "plt.show()"
      ]
    },
    {
      "cell_type": "code",
      "execution_count": 28,
      "metadata": {
        "colab": {
          "base_uri": "https://localhost:8080/"
        },
        "id": "S7iwBJlGZEUM",
        "outputId": "7ff6f962-3fa6-4fe3-fddb-17b103da8171"
      },
      "outputs": [
        {
          "output_type": "stream",
          "name": "stdout",
          "text": [
            "AUC ROC Score: 0.5298176621983017\n",
            "Accuracy: 0.2\n"
          ]
        }
      ],
      "source": [
        "from sklearn.metrics import roc_auc_score\n",
        "from sklearn.metrics import accuracy_score\n",
        "\n",
        "auc_roc_score = roc_auc_score(y_true, y_pred_prob, multi_class='ovr')\n",
        "print(f\"AUC ROC Score: {auc_roc_score}\")\n",
        "accuracy = accuracy_score(y_true, y_pred)\n",
        "print(f\"Accuracy: {accuracy}\")"
      ]
    }
  ],
  "metadata": {
    "colab": {
      "provenance": [],
      "include_colab_link": true
    },
    "kernelspec": {
      "display_name": "Python 3",
      "name": "python3"
    },
    "language_info": {
      "name": "python"
    }
  },
  "nbformat": 4,
  "nbformat_minor": 0
}