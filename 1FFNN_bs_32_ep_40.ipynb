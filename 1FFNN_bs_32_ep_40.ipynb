{
  "cells": [
    {
      "cell_type": "markdown",
      "metadata": {
        "id": "view-in-github",
        "colab_type": "text"
      },
      "source": [
        "<a href=\"https://colab.research.google.com/github/novtryrezki/Belajar/blob/main/1FFNN_bs_32_ep_40.ipynb\" target=\"_parent\"><img src=\"https://colab.research.google.com/assets/colab-badge.svg\" alt=\"Open In Colab\"/></a>"
      ]
    },
    {
      "cell_type": "code",
      "execution_count": 1,
      "metadata": {
        "id": "Gj0QELQHjUVZ"
      },
      "outputs": [],
      "source": [
        "import os\n",
        "import zipfile\n",
        "import random\n",
        "import shutil\n",
        "import numpy as np\n",
        "import tensorflow as tf\n",
        "import pandas as pd\n",
        "from google.colab import drive\n",
        "from sklearn.model_selection import train_test_split"
      ]
    },
    {
      "cell_type": "code",
      "execution_count": 2,
      "metadata": {
        "colab": {
          "base_uri": "https://localhost:8080/"
        },
        "id": "HXtZwYwdjXH4",
        "outputId": "c64c330a-74af-4093-f74d-b40b42f27396"
      },
      "outputs": [
        {
          "output_type": "stream",
          "name": "stdout",
          "text": [
            "Mounted at /content/drive\n"
          ]
        }
      ],
      "source": [
        "# Melakukan mount pada Google Drive\n",
        "drive.mount('/content/drive')\n",
        "\n",
        "# Menentukan path file ZIP di Google Drive\n",
        "zip_path = '/content/drive/MyDrive/images.zip'\n",
        "\n",
        "# Membuat objek zip_ref\n",
        "zip_ref = zipfile.ZipFile(zip_path, 'r')\n",
        "\n",
        "# Mengekstrak file ZIP\n",
        "extract_path ='/content/images'\n",
        "zip_ref.extractall(extract_path)\n",
        "\n",
        "# Tutup objek zip_ref setelah selesai\n",
        "zip_ref.close()"
      ]
    },
    {
      "cell_type": "code",
      "execution_count": 3,
      "metadata": {
        "colab": {
          "base_uri": "https://localhost:8080/"
        },
        "id": "P9SpMwZxCMpv",
        "outputId": "dadf000e-7dde-434b-fc6a-c142ad98f6aa"
      },
      "outputs": [
        {
          "output_type": "stream",
          "name": "stdout",
          "text": [
            "Daftar Angka pada Dataset Train yaitu :  ['angka 0', 'angka 1', 'angka 2', 'angka 3', 'angka 4', 'angka 5', 'angka 6', 'angka 7', 'angka 8', 'angka 9']\n",
            "Daftar Angka pada Dataset Test yaitu :  ['angka 0', 'angka 1', 'angka 2', 'angka 3', 'angka 4', 'angka 5', 'angka 6', 'angka 7', 'angka 8', 'angka 9']\n"
          ]
        }
      ],
      "source": [
        "# Mendefinisikan path direktori dataset\n",
        "dataset_dir = os.path.join(extract_path, 'images')\n",
        "train_dir = os.path.join(dataset_dir, 'train')\n",
        "test_dir = os.path.join(dataset_dir, 'test')\n",
        "list_train = sorted(os.listdir(train_dir))\n",
        "list_test = sorted(os.listdir(test_dir))\n",
        "\n",
        "print(\"Daftar Angka pada Dataset Train yaitu : \", list_train)\n",
        "print(\"Daftar Angka pada Dataset Test yaitu : \", list_test)"
      ]
    },
    {
      "cell_type": "code",
      "execution_count": 4,
      "metadata": {
        "colab": {
          "base_uri": "https://localhost:8080/"
        },
        "id": "JycQg0kGCHHe",
        "outputId": "71640a7b-6f04-4c66-acac-96d6e9e45dab"
      },
      "outputs": [
        {
          "output_type": "stream",
          "name": "stdout",
          "text": [
            "Jumlah gambar di Dataset Train: 1763\n",
            "Jumlah gambar di Dataset Test: 445\n"
          ]
        }
      ],
      "source": [
        "def count_images(directory):\n",
        "    return sum(1 for file in os.listdir(directory) if file.endswith(('.jpg', '.jpeg', '.png', '.gif')))\n",
        "\n",
        "# Menghitung jumlah gambar di data train\n",
        "train_image_count = sum(count_images(os.path.join(train_dir, angka)) for angka in list_train)\n",
        "\n",
        "# Menghitung jumlah gambar di data test\n",
        "test_image_count = sum(count_images(os.path.join(test_dir, angka)) for angka in list_test)\n",
        "\n",
        "print(f\"Jumlah gambar di Dataset Train: {train_image_count}\")\n",
        "print(f\"Jumlah gambar di Dataset Test: {test_image_count}\")"
      ]
    },
    {
      "cell_type": "markdown",
      "metadata": {
        "id": "Cs-YBymEElj8"
      },
      "source": [
        "# Preprocessing"
      ]
    },
    {
      "cell_type": "code",
      "execution_count": 5,
      "metadata": {
        "id": "j-iPjxpXF_bf"
      },
      "outputs": [],
      "source": [
        "import cv2\n",
        "\n",
        "def resize_images(directory, target_resolution):\n",
        "    for angka in os.listdir(directory):\n",
        "        angka_dir = os.path.join(directory, angka)\n",
        "        for file_name in os.listdir(angka_dir):\n",
        "            file_path = os.path.join(angka_dir, file_name)\n",
        "            img = cv2.imread(file_path)\n",
        "            resized_img = cv2.resize(img, (target_resolution, target_resolution))\n",
        "            cv2.imwrite(file_path, resized_img)\n",
        "\n",
        "target_resolution = 256\n",
        "resize_images(train_dir, target_resolution)\n",
        "resize_images(test_dir, target_resolution)"
      ]
    },
    {
      "cell_type": "code",
      "execution_count": 6,
      "metadata": {
        "colab": {
          "base_uri": "https://localhost:8080/"
        },
        "id": "MrR6ROkiF9Uj",
        "outputId": "4818c92e-5e49-40dc-cb53-a9da2c1c23d7"
      },
      "outputs": [
        {
          "output_type": "stream",
          "name": "stdout",
          "text": [
            "Found 1763 images belonging to 10 classes.\n",
            "Found 445 images belonging to 10 classes.\n"
          ]
        }
      ],
      "source": [
        "from tensorflow.keras.preprocessing.image import ImageDataGenerator\n",
        "\n",
        "# Membuat generator data dengan augmentasi\n",
        "image_size = (256, 256)\n",
        "batch_size = 32\n",
        "\n",
        "train_datagen = ImageDataGenerator(\n",
        "    rescale = 1./255,\n",
        "    rotation_range = 90,\n",
        "    width_shift_range = 0.2,\n",
        "    height_shift_range = 0.2,\n",
        "    zoom_range = 0.2,\n",
        ")\n",
        "\n",
        "test_datagen = ImageDataGenerator(\n",
        "    rescale=1./255,\n",
        ")\n",
        "\n",
        "train_generator = train_datagen.flow_from_directory(\n",
        "    train_dir,\n",
        "    target_size=image_size,\n",
        "    batch_size=batch_size,\n",
        "    class_mode='categorical',\n",
        "    color_mode='grayscale'\n",
        ")\n",
        "\n",
        "test_generator = test_datagen.flow_from_directory(\n",
        "    test_dir,\n",
        "    target_size=image_size,\n",
        "    batch_size=batch_size,\n",
        "    class_mode='categorical',\n",
        "    color_mode='grayscale'\n",
        ")"
      ]
    },
    {
      "cell_type": "markdown",
      "metadata": {
        "id": "gPqE7ywQJ01c"
      },
      "source": [
        "# Membuat Model CNN"
      ]
    },
    {
      "cell_type": "code",
      "execution_count": 7,
      "metadata": {
        "id": "SvNzs3QB71R6"
      },
      "outputs": [],
      "source": [
        "from tensorflow.keras.models import Sequential\n",
        "from tensorflow.keras.layers import Conv2D, AveragePooling2D, Flatten, Dense\n",
        "import math\n",
        "\n",
        "img_size = 256*256*1\n",
        "\n",
        "# Perhitungan jumlah neuron pada lapisan tersembunyi\n",
        "hidden_neurons = int(math.sqrt(img_size * batch_size))\n",
        "\n",
        "model1f = Sequential()\n",
        "model1f.add(Flatten(input_shape=(256, 256, 1)))\n",
        "model1f.add(Dense(hidden_neurons, activation='relu'))\n",
        "model1f.add(Dense(10, activation='softmax'))\n",
        "\n",
        "model1f.compile(optimizer='SGD', loss='categorical_crossentropy', metrics=['accuracy'])"
      ]
    },
    {
      "cell_type": "code",
      "execution_count": 8,
      "metadata": {
        "colab": {
          "base_uri": "https://localhost:8080/"
        },
        "id": "RfHd4NJznjOh",
        "outputId": "6016854a-055c-4592-fc12-bf6e50845d60"
      },
      "outputs": [
        {
          "output_type": "stream",
          "name": "stdout",
          "text": [
            "Model: \"sequential\"\n",
            "_________________________________________________________________\n",
            " Layer (type)                Output Shape              Param #   \n",
            "=================================================================\n",
            " flatten (Flatten)           (None, 65536)             0         \n",
            "                                                                 \n",
            " dense (Dense)               (None, 1448)              94897576  \n",
            "                                                                 \n",
            " dense_1 (Dense)             (None, 10)                14490     \n",
            "                                                                 \n",
            "=================================================================\n",
            "Total params: 94912066 (362.06 MB)\n",
            "Trainable params: 94912066 (362.06 MB)\n",
            "Non-trainable params: 0 (0.00 Byte)\n",
            "_________________________________________________________________\n"
          ]
        }
      ],
      "source": [
        "model1f.summary()"
      ]
    },
    {
      "cell_type": "code",
      "execution_count": 9,
      "metadata": {
        "colab": {
          "base_uri": "https://localhost:8080/"
        },
        "id": "I_Klj8ReYASB",
        "outputId": "05f5ebd4-b52f-4bc3-f7b5-8a4bf6fc03f0"
      },
      "outputs": [
        {
          "output_type": "stream",
          "name": "stdout",
          "text": [
            "Epoch 1/40\n",
            "56/56 [==============================] - 45s 779ms/step - loss: 3.1050 - accuracy: 0.2484\n",
            "Epoch 2/40\n",
            "56/56 [==============================] - 44s 774ms/step - loss: 2.0556 - accuracy: 0.2830\n",
            "Epoch 3/40\n",
            "56/56 [==============================] - 43s 768ms/step - loss: 2.0470 - accuracy: 0.2950\n",
            "Epoch 4/40\n",
            "56/56 [==============================] - 43s 771ms/step - loss: 2.0270 - accuracy: 0.3012\n",
            "Epoch 5/40\n",
            "56/56 [==============================] - 44s 780ms/step - loss: 1.9941 - accuracy: 0.3256\n",
            "Epoch 6/40\n",
            "56/56 [==============================] - 45s 804ms/step - loss: 1.9958 - accuracy: 0.3154\n",
            "Epoch 7/40\n",
            "56/56 [==============================] - 43s 771ms/step - loss: 1.9961 - accuracy: 0.3244\n",
            "Epoch 8/40\n",
            "56/56 [==============================] - 44s 773ms/step - loss: 1.9608 - accuracy: 0.3386\n",
            "Epoch 9/40\n",
            "56/56 [==============================] - 44s 774ms/step - loss: 1.9774 - accuracy: 0.3347\n",
            "Epoch 10/40\n",
            "56/56 [==============================] - 45s 780ms/step - loss: 1.9742 - accuracy: 0.3239\n",
            "Epoch 11/40\n",
            "56/56 [==============================] - 44s 774ms/step - loss: 1.9437 - accuracy: 0.3415\n",
            "Epoch 12/40\n",
            "56/56 [==============================] - 44s 775ms/step - loss: 1.9329 - accuracy: 0.3539\n",
            "Epoch 13/40\n",
            "56/56 [==============================] - 44s 776ms/step - loss: 1.9250 - accuracy: 0.3466\n",
            "Epoch 14/40\n",
            "56/56 [==============================] - 45s 784ms/step - loss: 1.9312 - accuracy: 0.3494\n",
            "Epoch 15/40\n",
            "56/56 [==============================] - 44s 779ms/step - loss: 1.9425 - accuracy: 0.3449\n",
            "Epoch 16/40\n",
            "56/56 [==============================] - 45s 813ms/step - loss: 1.9097 - accuracy: 0.3522\n",
            "Epoch 17/40\n",
            "56/56 [==============================] - 44s 778ms/step - loss: 1.9268 - accuracy: 0.3505\n",
            "Epoch 18/40\n",
            "56/56 [==============================] - 44s 776ms/step - loss: 1.9036 - accuracy: 0.3539\n",
            "Epoch 19/40\n",
            "56/56 [==============================] - 45s 780ms/step - loss: 1.9031 - accuracy: 0.3596\n",
            "Epoch 20/40\n",
            "56/56 [==============================] - 44s 776ms/step - loss: 1.9039 - accuracy: 0.3642\n",
            "Epoch 21/40\n",
            "56/56 [==============================] - 44s 778ms/step - loss: 1.9249 - accuracy: 0.3420\n",
            "Epoch 22/40\n",
            "56/56 [==============================] - 44s 779ms/step - loss: 1.8981 - accuracy: 0.3551\n",
            "Epoch 23/40\n",
            "56/56 [==============================] - 44s 777ms/step - loss: 1.9144 - accuracy: 0.3590\n",
            "Epoch 24/40\n",
            "56/56 [==============================] - 44s 789ms/step - loss: 1.8993 - accuracy: 0.3539\n",
            "Epoch 25/40\n",
            "56/56 [==============================] - 44s 777ms/step - loss: 1.8701 - accuracy: 0.3630\n",
            "Epoch 26/40\n",
            "56/56 [==============================] - 44s 774ms/step - loss: 1.8712 - accuracy: 0.3590\n",
            "Epoch 27/40\n",
            "56/56 [==============================] - 44s 778ms/step - loss: 1.9118 - accuracy: 0.3607\n",
            "Epoch 28/40\n",
            "56/56 [==============================] - 44s 781ms/step - loss: 1.8603 - accuracy: 0.3704\n",
            "Epoch 29/40\n",
            "56/56 [==============================] - 44s 777ms/step - loss: 1.8264 - accuracy: 0.3812\n",
            "Epoch 30/40\n",
            "56/56 [==============================] - 44s 777ms/step - loss: 1.8550 - accuracy: 0.3698\n",
            "Epoch 31/40\n",
            "56/56 [==============================] - 44s 775ms/step - loss: 1.8542 - accuracy: 0.3670\n",
            "Epoch 32/40\n",
            "56/56 [==============================] - 44s 775ms/step - loss: 1.8495 - accuracy: 0.3721\n",
            "Epoch 33/40\n",
            "56/56 [==============================] - 44s 775ms/step - loss: 1.8288 - accuracy: 0.3812\n",
            "Epoch 34/40\n",
            "56/56 [==============================] - 44s 777ms/step - loss: 1.8709 - accuracy: 0.3715\n",
            "Epoch 35/40\n",
            "56/56 [==============================] - 44s 777ms/step - loss: 1.8753 - accuracy: 0.3545\n",
            "Epoch 36/40\n",
            "56/56 [==============================] - 44s 781ms/step - loss: 1.7998 - accuracy: 0.3880\n",
            "Epoch 37/40\n",
            "56/56 [==============================] - 45s 805ms/step - loss: 1.8053 - accuracy: 0.3891\n",
            "Epoch 38/40\n",
            "56/56 [==============================] - 44s 776ms/step - loss: 1.9065 - accuracy: 0.3460\n",
            "Epoch 39/40\n",
            "56/56 [==============================] - 44s 779ms/step - loss: 1.8054 - accuracy: 0.3800\n",
            "Epoch 40/40\n",
            "56/56 [==============================] - 44s 780ms/step - loss: 1.7873 - accuracy: 0.3976\n"
          ]
        }
      ],
      "source": [
        "history = model1f.fit(train_generator, epochs=40, verbose = 1)"
      ]
    },
    {
      "cell_type": "markdown",
      "metadata": {
        "id": "6VOcIXg0IvCs"
      },
      "source": [
        "#Matriks Konfusi"
      ]
    },
    {
      "cell_type": "code",
      "execution_count": 18,
      "metadata": {
        "colab": {
          "base_uri": "https://localhost:8080/",
          "height": 617
        },
        "id": "Lz5lA0bDIxJg",
        "outputId": "c802aaeb-1f45-493e-e7c1-f81448b41377"
      },
      "outputs": [
        {
          "output_type": "stream",
          "name": "stdout",
          "text": [
            "14/14 [==============================] - 3s 174ms/step\n"
          ]
        },
        {
          "output_type": "display_data",
          "data": {
            "text/plain": [
              "<Figure size 800x600 with 2 Axes>"
            ],
            "image/png": "[encoded data removed]"
          },
          "metadata": {}
        }
      ],
      "source": [
        "from sklearn.metrics import confusion_matrix, classification_report\n",
        "import seaborn as sns\n",
        "import matplotlib.pyplot as plt\n",
        "\n",
        "# Fungsi untuk mendapatkan prediksi model dan label sebenarnya\n",
        "def get_predictions_and_labels(model, data_generator):\n",
        "    predictions = model.predict(data_generator)\n",
        "    true_classes = data_generator.classes\n",
        "    return predictions, true_classes\n",
        "\n",
        "# Mendapatkan prediksi dan label sebenarnya untuk data uji\n",
        "y_pred_prob, y_true = get_predictions_and_labels(model1f, test_generator)\n",
        "y_pred = np.argmax(y_pred_prob, axis=1)\n",
        "\n",
        "# Membuat matriks konfusi\n",
        "cf_matrix = confusion_matrix(y_true, y_pred)\n",
        "\n",
        "# Membuat visualisasi matriks konfusi\n",
        "fig, ax = plt.subplots(figsize=(8, 6))\n",
        "sns.heatmap(cf_matrix, annot=True, fmt='g', cmap='Blues', ax=ax)\n",
        "\n",
        "# Menetapkan label dan judul\n",
        "ax.set_title('Confusion Matrix with labels')\n",
        "ax.set_xlabel('Predicted Values')\n",
        "ax.set_ylabel('Actual Values')\n",
        "\n",
        "class_labels = list(test_generator.class_indices.keys())\n",
        "\n",
        "# Menetapkan label pada sumbu x dan y sesuai dengan jenis kelas\n",
        "ax.xaxis.set_ticklabels(class_labels, rotation=45)\n",
        "ax.yaxis.set_ticklabels(class_labels, rotation=45)\n",
        "\n",
        "# Menampilkan visualisasi Matriks Konfusi\n",
        "plt.show()"
      ]
    },
    {
      "cell_type": "code",
      "execution_count": 19,
      "metadata": {
        "colab": {
          "base_uri": "https://localhost:8080/"
        },
        "id": "S7iwBJlGZEUM",
        "outputId": "dd23dc5b-9dbb-40fa-89d3-effa85930c3b"
      },
      "outputs": [
        {
          "output_type": "stream",
          "name": "stdout",
          "text": [
            "AUC ROC Score: 0.5257059990695229\n",
            "Accuracy: 0.298876404494382\n"
          ]
        }
      ],
      "source": [
        "from sklearn.metrics import roc_auc_score\n",
        "from sklearn.metrics import accuracy_score\n",
        "\n",
        "auc_roc_score = roc_auc_score(y_true, y_pred_prob, multi_class='ovr')\n",
        "print(f\"AUC ROC Score: {auc_roc_score}\")\n",
        "accuracy = accuracy_score(y_true, y_pred)\n",
        "print(f\"Accuracy: {accuracy}\")"
      ]
    }
  ],
  "metadata": {
    "colab": {
      "provenance": [],
      "include_colab_link": true
    },
    "kernelspec": {
      "display_name": "Python 3",
      "name": "python3"
    },
    "language_info": {
      "name": "python"
    }
  },
  "nbformat": 4,
  "nbformat_minor": 0
}